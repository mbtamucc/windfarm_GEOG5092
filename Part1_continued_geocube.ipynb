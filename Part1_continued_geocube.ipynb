{
 "cells": [
  {
   "cell_type": "code",
   "execution_count": 1,
   "metadata": {},
   "outputs": [],
   "source": [
    "import geopandas as gpd\n",
    "import geocube\n",
    "from geocube.api.core import make_geocube"
   ]
  },
  {
   "cell_type": "code",
   "execution_count": 2,
   "metadata": {},
   "outputs": [],
   "source": [
    "easement = gpd.read_file(\"/Users/jonathanburton/Desktop/Fall2020/Geog5092/final_proj/data/GDB_ME/easements_clip.shp\")\n",
    "oilgas = gpd.read_file(\"/Users/jonathanburton/Desktop/Fall2020/Geog5092/final_proj/data/gdb_osi/oilgast_clip.shp\")\n",
    "coast_lease = gpd.read_file(\"/Users/jonathanburton/Desktop/Fall2020/Geog5092/final_proj/data/GDB_NonMineralPoly/lease_clip.shp\")\n",
    "navdist = gpd.read_file(\"/Users/jonathanburton/Desktop/Fall2020/Geog5092/final_proj/data/GDB_NavDist/nav_clip.shp\")\n",
    "shipping = gpd.read_file(\"/Users/jonathanburton/Desktop/Fall2020/Geog5092/final_proj/data/shippinglanes/ship_clip.shp\")\n",
    "ppa = gpd.read_file(\"/Users/jonathanburton/Desktop/Fall2020/Geog5092/final_proj/data/GDB_PPA/ppa_clip.shp\")"
   ]
  },
  {
   "cell_type": "code",
   "execution_count": 3,
   "metadata": {},
   "outputs": [
    {
     "name": "stdout",
     "output_type": "stream",
     "text": [
      "rasterizing vector data\n"
     ]
    }
   ],
   "source": [
    "##geocube###\n",
    "##ppa\n",
    "grid = make_geocube(\n",
    "    vector_data = ppa,\n",
    "    resolution=(-100, 100),\n",
    ")\n",
    "grid.rio.to_raster(\"/Users/jonathanburton/Documents/GitHub/windfarm/data/rastifs/ppa.tif\", compress=\"DEFLATE\", bigtiff=\"YES\")\n",
    "\n",
    "\n",
    "##shipping\n",
    "grid = make_geocube(\n",
    "    group_by= (),\n",
    "    vector_data = shipping,\n",
    "    resolution=(-.01, .01),\n",
    ")\n",
    "grid.rio.to_raster(\"/Users/jonathanburton/Documents/GitHub/windfarm/data/rastifs/shipping.tif\", compress=\"DEFLATE\", bigtiff=\"YES\")\n",
    "\n",
    "##navigation districts\n",
    "grid = make_geocube(\n",
    "    vector_data = navdist,\n",
    "    resolution=(-100, 100),\n",
    ")\n",
    "grid.rio.to_raster(\"/Users/jonathanburton/Documents/GitHub/windfarm/data/rastifs/navdist.tif\", compress=\"DEFLATE\", bigtiff=\"YES\")\n",
    "\n",
    "#Coastal Leases\n",
    "grid = make_geocube(\n",
    "    vector_data = coast_lease,\n",
    "    resolution=(-100, 100),\n",
    ")\n",
    "grid.rio.to_raster(\"/Users/jonathanburton/Documents/GitHub/windfarm/data/rastifs/leases.tif\", compress=\"DEFLATE\", bigtiff=\"YES\")\n",
    "\n",
    "##Oil and Gas\n",
    "grid = make_geocube(\n",
    "    vector_data = oilgas,\n",
    "    resolution=(-100, 100),\n",
    ")\n",
    "grid.rio.to_raster(\"/Users/jonathanburton/Documents/GitHub/windfarm/data/rastifs/oilgas.tif\", compress=\"DEFLATE\", bigtiff=\"YES\")\n",
    "print(\"rasterizing vector data\")"
   ]
  },
  {
   "cell_type": "code",
   "execution_count": null,
   "metadata": {},
   "outputs": [],
   "source": []
  }
 ],
 "metadata": {
  "kernelspec": {
   "display_name": "Python 3",
   "language": "python",
   "name": "python3"
  },
  "language_info": {
   "codemirror_mode": {
    "name": "ipython",
    "version": 3
   },
   "file_extension": ".py",
   "mimetype": "text/x-python",
   "name": "python",
   "nbconvert_exporter": "python",
   "pygments_lexer": "ipython3",
   "version": "3.8.5"
  }
 },
 "nbformat": 4,
 "nbformat_minor": 4
}
